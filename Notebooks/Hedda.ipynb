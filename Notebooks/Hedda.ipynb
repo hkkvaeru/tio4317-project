{
 "cells": [
  {
   "cell_type": "markdown",
   "metadata": {},
   "source": [
    "# Empirical Project\n"
   ]
  },
  {
   "cell_type": "markdown",
   "metadata": {},
   "source": [
    "## Introduction\n",
    "\n",
    "The financial markets are complex, with stock prices influenced by many factors. These range from global economic indicators to specific sector events. This project explores financial analysis by examining how external economic variables influence stock prices. We focus on oil prices and exchange rates, specifically the Norwegian Krone against the US dollar, and their impact on energy sector stocks listed on the Oslo Stock Exchange.\n",
    "\n",
    "The energy sector is crucial to the global economy and often reflects broader economic trends. Fluctuations in oil prices and currency values can significantly impact the financial performance and stock valuations of energy companies. Our research aims to use time-series analysis to forecast and understand stock price movements within this sector. We will assess the extent to which these external economic factors can predict stock price fluctuations.\n",
    "\n",
    "We will use Python and its powerful libraries for our analysis. Pandas will be used for data manipulation, NumPy for numerical calculations, and yfinance for retrieving financial data. The project will methodically apply variants of linear regression to test the impact of economic factors on stock prices. We will compare our models against the ARIMA model, a standard in time-series forecasting.\n",
    "\n",
    "Our analysis will be comprehensive, beginning with data retrieval and extending to rigorous empirical testing. We will use statistical models to ensure the robustness and reliability of our findings. By integrating theoretical knowledge from our coursework with practical data analysis, this project aims to contribute to academic understanding. It also seeks to provide actionable insights that could inform investment strategies within the energy sector.\n",
    "\n",
    "The relationship between crude oil and financial markets has been the subject of serious consideration over the past decade. It is generally accepted that oil price shocks exert enormous influence on economic activities,"
   ]
  },
  {
   "cell_type": "code",
   "execution_count": null,
   "metadata": {},
   "outputs": [],
   "source": []
  }
 ],
 "metadata": {
  "kernelspec": {
   "display_name": "Python 3",
   "language": "python",
   "name": "python3"
  },
  "language_info": {
   "name": "python",
   "version": "3.9.7"
  }
 },
 "nbformat": 4,
 "nbformat_minor": 2
}

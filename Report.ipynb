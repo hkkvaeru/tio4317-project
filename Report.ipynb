{
 "cells": [
  {
   "cell_type": "markdown",
   "metadata": {},
   "source": [
    "# TIØ4317 Project\n",
    "\n",
    "Group members:\n",
    "- Frederick Johan Pretlove\n",
    "- Fabian Stoltenberg\n",
    "- Hans Kristian Bjørgo Kværum\n",
    "- Hedda Flemmen Holum"
   ]
  },
  {
   "cell_type": "markdown",
   "metadata": {},
   "source": [
    "## Problem statement"
   ]
  },
  {
   "cell_type": "markdown",
   "metadata": {},
   "source": [
    "This project investigates how fluctuations in the oil price, and the Norwegian Krone (NOK) exchange rate influence the stock prices of selected companies listed on the Oslo Stock Exchange (OSE). By applying time-series analysis, we aim to determine the explanatory power of these external economic factors in stock price prediction.\n",
    "\n",
    "We will retrieve historical data via APIs (Yahoo Finance and Norges Bank) and implement ARIMA and ARIMAX models (see explanations in the “Empirical Analysis” section). Our goal is to compare their predictive performance and assess whether incorporating oil prices and exchange rates improves stock price forecasts beyond a baseline ARIMA model. If these external factors enhance predictive accuracy, this would indicate a relationship between commodity prices, exchange rates, and stock prices.\n",
    "\n",
    "To ensure model robustness, we will conduct diagnostic tests for stationarity, autocorrelation, and heteroscedasticity. The findings will provide insights into the relationship between macroeconomic factors and energy stock prices, offering valuable guidance to investors and analysts seeking to better understand market dynamics.\n"
   ]
  },
  {
   "cell_type": "markdown",
   "metadata": {},
   "source": []
  }
 ],
 "metadata": {
  "kernelspec": {
   "display_name": "base",
   "language": "python",
   "name": "python3"
  },
  "language_info": {
   "name": "python",
   "version": "3.9.12"
  }
 },
 "nbformat": 4,
 "nbformat_minor": 2
}

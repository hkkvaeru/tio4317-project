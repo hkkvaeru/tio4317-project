{
 "cells": [
  {
   "cell_type": "markdown",
   "metadata": {},
   "source": [
    "# Korrelsajonsanalyse og lineærregresjon Equinor, Oljepris og NOK"
   ]
  },
  {
   "cell_type": "code",
   "execution_count": 2,
   "metadata": {},
   "outputs": [
    {
     "name": "stdout",
     "output_type": "stream",
     "text": [
      "Correlation between Stock Price and Oil Price: 0.9233844104127353\n",
      "Correlation between Stock Price and Mean NOK Rate: 0.5309431509661086\n",
      "                            OLS Regression Results                            \n",
      "==============================================================================\n",
      "Dep. Variable:                  Price   R-squared:                       0.861\n",
      "Model:                            OLS   Adj. R-squared:                  0.861\n",
      "Method:                 Least Squares   F-statistic:                     5408.\n",
      "Date:                Tue, 25 Mar 2025   Prob (F-statistic):               0.00\n",
      "Time:                        18:05:32   Log-Likelihood:                -8287.0\n",
      "No. Observations:                1750   AIC:                         1.658e+04\n",
      "Df Residuals:                    1747   BIC:                         1.660e+04\n",
      "Df Model:                           2                                         \n",
      "Covariance Type:            nonrobust                                         \n",
      "===============================================================================\n",
      "                  coef    std err          t      P>|t|      [0.025      0.975]\n",
      "-------------------------------------------------------------------------------\n",
      "const         -55.4995      6.837     -8.117      0.000     -68.909     -42.090\n",
      "OilPrice        0.3076      0.004     85.292      0.000       0.301       0.315\n",
      "MeanNOKRate     7.4032      0.725     10.215      0.000       5.982       8.825\n",
      "==============================================================================\n",
      "Omnibus:                      166.542   Durbin-Watson:                   0.045\n",
      "Prob(Omnibus):                  0.000   Jarque-Bera (JB):              231.161\n",
      "Skew:                           0.750   Prob(JB):                     6.37e-51\n",
      "Kurtosis:                       3.959   Cond. No.                     7.59e+03\n",
      "==============================================================================\n",
      "\n",
      "Notes:\n",
      "[1] Standard Errors assume that the covariance matrix of the errors is correctly specified.\n",
      "[2] The condition number is large, 7.59e+03. This might indicate that there are\n",
      "strong multicollinearity or other numerical problems.\n"
     ]
    },
    {
     "name": "stderr",
     "output_type": "stream",
     "text": [
      "/var/folders/cj/0sj08jds0671hy9qb1nk7shw0000gn/T/ipykernel_5936/10104154.py:33: SettingWithCopyWarning: \n",
      "A value is trying to be set on a copy of a slice from a DataFrame\n",
      "\n",
      "See the caveats in the documentation: https://pandas.pydata.org/pandas-docs/stable/user_guide/indexing.html#returning-a-view-versus-a-copy\n",
      "  company_data.dropna(inplace=True)\n"
     ]
    }
   ],
   "source": [
    "import pandas as pd\n",
    "import statsmodels.api as sm\n",
    "from scipy.stats import pearsonr\n",
    "\n",
    "# Load the datasets\n",
    "commodity_prices = pd.read_excel('Data/Processed/DAILY_COMMODITY_PRICES.xlsx')\n",
    "exchange_rates = pd.read_excel('Data/Processed/DAILY_EXCHANGE_RATES.xlsx')\n",
    "stock_prices = pd.read_excel('Data/Processed/DAILY_STOCK_PRICES.xlsx')\n",
    "\n",
    "# Ensure the date is in the correct datetime format\n",
    "stock_prices['Date'] = pd.to_datetime(stock_prices['Date'])\n",
    "commodity_prices['Date'] = pd.to_datetime(commodity_prices['Date'])\n",
    "exchange_rates['Date'] = pd.to_datetime(exchange_rates['Date'])\n",
    "\n",
    "# Calculate the mean exchange rate for NOK against important trading currencies\n",
    "necessary_currencies = ['USDNOK', 'EURNOK', 'CHFNOK', 'GBPNOK']\n",
    "exchange_rates_filtered = exchange_rates[exchange_rates['Ticker'].isin(necessary_currencies)]\n",
    "mean_nok_rates = exchange_rates_filtered.groupby('Date')['Mid'].mean().reset_index()\n",
    "mean_nok_rates.rename(columns={'Mid': 'MeanNOKRate'}, inplace=True)\n",
    "\n",
    "# Select the oil price data\n",
    "oil_data = commodity_prices[commodity_prices['Ticker'] == 'OILDB-FDS'][['Date', 'Price']]\n",
    "oil_data.rename(columns={'Price': 'OilPrice'}, inplace=True)\n",
    "\n",
    "# Merge all data on the 'Date' column\n",
    "data = pd.merge(stock_prices, oil_data, on='Date', how='inner')\n",
    "data = pd.merge(data, mean_nok_rates, on='Date', how='inner')\n",
    "\n",
    "# Filter data for a specific energy company, e.g., 'EQNR-NO'\n",
    "company_data = data[data['Ticker'] == 'EQNR-NO']\n",
    "\n",
    "# Drop any rows with missing data\n",
    "company_data.dropna(inplace=True)\n",
    "\n",
    "# Perform correlation analysis\n",
    "corr_oil_price = pearsonr(company_data['Price'], company_data['OilPrice'])[0]\n",
    "corr_nok_rate = pearsonr(company_data['Price'], company_data['MeanNOKRate'])[0]\n",
    "print(f\"Correlation between Stock Price and Oil Price: {corr_oil_price}\")\n",
    "print(f\"Correlation between Stock Price and Mean NOK Rate: {corr_nok_rate}\")\n",
    "\n",
    "# Linear Regression: Stock Price as a function of Oil Price and Mean NOK Rate\n",
    "X = company_data[['OilPrice', 'MeanNOKRate']]\n",
    "X = sm.add_constant(X)  # adding a constant\n",
    "Y = company_data['Price']\n",
    "\n",
    "model = sm.OLS(Y, X).fit()\n",
    "print(model.summary())\n"
   ]
  },
  {
   "cell_type": "markdown",
   "metadata": {},
   "source": [
    "Impact of Oil Prices and NOK Exchange Rate on Energy Sector Stock Prices\n",
    "Our analysis investigated the effects of fluctuations in oil prices and the Norwegian Krone (NOK) exchange rate on the stock prices of key energy sector companies listed on the Oslo Stock Exchange. By integrating daily data on oil prices, NOK exchange rates, and stock prices, we performed both correlation analysis and linear regression to quantify these relationships.\n",
    "\n",
    "Correlation Findings: The correlation analysis revealed a positive correlation between oil prices and the stock prices of Equinor ASA (EQNR-NO), suggesting that as oil prices increase, so too do the stock prices of Equinor. This relationship highlights the dependency of energy companies on commodity prices, reflecting broader industry trends where oil price movements significantly influence market valuations of energy firms. Conversely, the correlation between the NOK exchange rate and Equinor's stock prices was less pronounced, indicating that while exchange rate fluctuations impact financial performance, their effect is comparatively muted against the backdrop of global oil price dynamics.\n",
    "\n",
    "Regression Analysis: The linear regression model further quantified these effects, showing statistically significant coefficients for both oil prices and NOK exchange rates. The model indicated that oil prices have a more substantial and statistically significant impact on stock prices than exchange rate fluctuations. This finding underscores the critical role that commodity prices play in the financial health and stock performance of energy companies. The regression coefficients provide a clear measure of how a unit change in oil prices or NOK exchange rates is expected to influence the stock prices, offering valuable insights for investors and analysts.\n",
    "\n",
    "Implications for Stakeholders: For investors, understanding these dynamics is crucial for making informed investment decisions, particularly in a volatile energy market influenced by both geopolitical factors and currency fluctuations. Energy companies and policymakers can also benefit from these insights by better anticipating market responses to changes in oil prices and exchange rates, thus enhancing strategic planning and risk management.\n",
    "\n",
    "Limitations and Further Research: While the analysis provides significant insights, it is subject to the inherent limitations of historical data and the assumption that past patterns will persist. Future research could expand to include more granular data, consider additional variables such as geopolitical events or new energy policies, and apply more complex models to capture the nonlinear dynamics of the markets."
   ]
  }
 ],
 "metadata": {
  "kernelspec": {
   "display_name": "Python 3",
   "language": "python",
   "name": "python3"
  },
  "language_info": {
   "codemirror_mode": {
    "name": "ipython",
    "version": 3
   },
   "file_extension": ".py",
   "mimetype": "text/x-python",
   "name": "python",
   "nbconvert_exporter": "python",
   "pygments_lexer": "ipython3",
   "version": "3.9.7"
  }
 },
 "nbformat": 4,
 "nbformat_minor": 2
}
